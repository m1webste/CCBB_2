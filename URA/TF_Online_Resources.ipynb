{
 "cells": [
  {
   "cell_type": "markdown",
   "metadata": {},
   "source": [
    "# Online Transcription Factor Databases Comparison\n",
    "\n",
    "----------------------\n",
    "\n",
    "Author: Mikayla Webster (m1webste@ucsd.edu)\n",
    "\n",
    "Date: 18th October, 2017\n",
    "\n",
    "----------------------\n",
    "\n",
    "<a id='toc'></a>\n",
    "## Table of Contents\n",
    "1. [Import packages](#import)\n",
    "2. [Slowkow](#slowkow)\n",
    "    3. [TRED](#tred)\n",
    "    4. [ITFP](#itfp)\n",
    "    5. [ENCODE](#encode)\n",
    "    6. [Neph2012](#neph2012)\n",
    "    7. [TRRUST](#trrust)\n",
    "    8. [Marbach2016](#marbach2016)\n",
    "9. [Jaspar Genereg](#jaspar)"
   ]
  },
  {
   "cell_type": "markdown",
   "metadata": {},
   "source": [
    "## Import packages\n",
    "<a id='import'></a>"
   ]
  },
  {
   "cell_type": "code",
   "execution_count": 2,
   "metadata": {
    "collapsed": true
   },
   "outputs": [],
   "source": [
    "import numpy as np\n",
    "import pandas as pd\n",
    "import networkx as nx\n",
    "import scipy\n",
    "from scipy import stats\n",
    "import mygene\n",
    "import math\n",
    "\n",
    "import matplotlib as mpl\n",
    "mpl.rc('text', usetex = False)\n",
    "mpl.rc('font', family = 'serif')\n",
    "% matplotlib inline"
   ]
  },
  {
   "cell_type": "markdown",
   "metadata": {},
   "source": [
    "## Slowkow\n",
    "<a id='slowkow'></a>"
   ]
  },
  {
   "cell_type": "markdown",
   "metadata": {},
   "source": [
    "Slowkow is a compilation of six transcription factor (and their gene associations) online databases: TRED, ITFP, ENCODE, Neph2012, TRRUST, and Marbach2016. Slowkow, as well as links to each individual databases' source page, is available for download at this [github link](https://github.com/slowkow/tftargets). The raw data file is formatted as an R data structure, named \"tftargets.rda\". To extract the databases from this file for use in Jupyter Notebooks, I used [RStudio](https://www.rstudio.com/) to write the transcription factor (TF) gene symbols to a text file. I did not write to file each TF's associations.\n",
    "\n",
    "First, I navigated to the directory containing \"tftargets.rda\":\n",
    "    1. setwd(\"C:/Users/m1webste/Documents/CCBB_2/URA\")\n",
    "\n",
    "Next, I loaded the tftarget data structure to my workspace:\n",
    "    1. tftargets = load(\"slowkow_databases/tftargets.rda\")\n",
    "\n",
    "I wrote each database to a different, respectively named text file. All databases but Neph2012 were structured as a list of lists. The name of each list was the TF, while the contents of each list were the gene associations. I simply printed all the names to file as one column. This was done arbitrarily, with the intention of later parsing the TF's with newlines as separaters. \n",
    "    1. write(names(TRED), file = \"TRED_TF.txt\", ncolumns = 1)\n",
    "    2. write(names(IFTP), file = \"IFTP_TF.txt\", ncolumns = 1)\n",
    "    3. write(names(ENCODE), file = \"ENCODE_TF.txt\", ncolumns = 1)\n",
    "    4. write(names(TRRUST), file = \"TTRUST_TF.txt\", ncolumns = 1)\n",
    "    5. write(names(Marbach2016), file = \"Marbach_TF.txt\", ncolumns = 1)\n",
    "    \n",
    "Neph2012 was structured as several nested lists, therefor required more than simply printing the names of each list to file.    \n",
    "    1. for (i in (1:41)){\n",
    "      2. for (name in names(Neph2012[[i]])){\n",
    "        3. write(name, file = \"Neph2012.txt\", ncolumns = 1, append = TRUE, sep = \"\\t\")\n",
    "      4. }\n",
    "    5. }\n",
    "\n"
   ]
  },
  {
   "cell_type": "code",
   "execution_count": 3,
   "metadata": {
    "collapsed": true
   },
   "outputs": [],
   "source": [
    "def load_subdb(file_name):\n",
    "    \n",
    "    # read files formatted as \\n separated items\n",
    "    f = open(file_name)\n",
    "    lines = f.read().splitlines()\n",
    "    \n",
    "    # convert everything to ALL CAPS\n",
    "    [x.upper() for x in lines]\n",
    "    \n",
    "    # remove duplicates\n",
    "    return set(lines)"
   ]
  },
  {
   "cell_type": "code",
   "execution_count": 8,
   "metadata": {
    "collapsed": true
   },
   "outputs": [],
   "source": [
    "def load_all_others(exclude):\n",
    "    \n",
    "    file_list = []\n",
    "    \n",
    "    if exclude == \"TRED\":\n",
    "        file_list = ['./slowkow_databases/ITFP_TF.txt', './slowkow_databases/ENCODE_TF.txt',\n",
    "                 './slowkow_databases/Neph2012_TF.txt','./slowkow_databases/TRRUST_TF.txt','./slowkow_databases/Marbach2016_TF.txt']\n",
    "    elif exclude == \"ITFP\":\n",
    "        file_list = ['./slowkow_databases/TRED_TF.txt', './slowkow_databases/ENCODE_TF.txt',\n",
    "                 './slowkow_databases/Neph2012_TF.txt','./slowkow_databases/TRRUST_TF.txt','./slowkow_databases/Marbach2016_TF.txt']\n",
    "    elif exclude == \"ENCODE\":\n",
    "        file_list = ['./slowkow_databases/TRED_TF.txt', './slowkow_databases/ITFP_TF.txt',\n",
    "                 './slowkow_databases/Neph2012_TF.txt','./slowkow_databases/TRRUST_TF.txt','./slowkow_databases/Marbach2016_TF.txt']\n",
    "    elif exclude == \"Neph2012\":\n",
    "        file_list = ['./slowkow_databases/TRED_TF.txt', './slowkow_databases/ITFP_TF.txt', './slowkow_databases/ENCODE_TF.txt',\n",
    "                 './slowkow_databases/TRRUST_TF.txt','./slowkow_databases/Marbach2016_TF.txt']\n",
    "    elif exclude == \"TRRUST\":\n",
    "        file_list = ['./slowkow_databases/TRED_TF.txt', './slowkow_databases/ITFP_TF.txt', './slowkow_databases/ENCODE_TF.txt',\n",
    "                 './slowkow_databases/Neph2012_TF.txt','./slowkow_databases/Marbach2016_TF.txt']\n",
    "    elif exclude == \"Marbach2016\":\n",
    "        file_list = ['./slowkow_databases/TRED_TF.txt', './slowkow_databases/ITFP_TF.txt', './slowkow_databases/ENCODE_TF.txt',\n",
    "                 './slowkow_databases/Neph2012_TF.txt','./slowkow_databases/TRRUST_TF.txt']\n",
    "    elif exclude == \"None\":\n",
    "        file_list = ['./slowkow_databases/TRED_TF.txt','./slowkow_databases/ITFP_TF.txt','./slowkow_databases/ENCODE_TF.txt',\n",
    "                 './slowkow_databases/Neph2012_TF.txt','./slowkow_databases/TRRUST_TF.txt','./slowkow_databases/Marbach2016_TF.txt']\n",
    "    else:\n",
    "        print 'Bad input'\n",
    "        \n",
    "    # read files formatted as \\n separated items\n",
    "    return_list = []\n",
    "    for file_name in file_list:\n",
    "        with open(file_name) as f:\n",
    "            lines = f.read().splitlines()\n",
    "            return_list.extend(lines)\n",
    "    \n",
    "    # convert everything to ALL CAPS\n",
    "    [x.upper() for x in return_list]\n",
    "    \n",
    "    # remove duplicates\n",
    "    return set(return_list)\n",
    "        \n",
    "    return return_list"
   ]
  },
  {
   "cell_type": "markdown",
   "metadata": {},
   "source": [
    "### TRED\n",
    "<a id='tred'></a>"
   ]
  },
  {
   "cell_type": "code",
   "execution_count": 16,
   "metadata": {
    "collapsed": false
   },
   "outputs": [
    {
     "name": "stdout",
     "output_type": "stream",
     "text": [
      "Size of TRED: 133\n",
      "Size of Slowkow without TRED: 2697\n",
      "TRED's contribution to slowkow: 8\n"
     ]
    }
   ],
   "source": [
    "tred_list = load_subdb('./slowkow_databases/TRED_TF.txt')\n",
    "not_tred = load_all_others(\"TRED\")\n",
    "print 'Size of TRED: ' + str(len(tred_list))\n",
    "print 'Size of Slowkow without TRED: ' + str(len(not_tred))\n",
    "contribution1 = len(tred_list) - len(list(set(tred_list) & set(not_tred)))\n",
    "print 'TRED\\'s contribution to slowkow: ' + str(contribution1)"
   ]
  },
  {
   "cell_type": "markdown",
   "metadata": {},
   "source": [
    "### ITFP\n",
    "<a id='itfp'></a>"
   ]
  },
  {
   "cell_type": "code",
   "execution_count": 17,
   "metadata": {
    "collapsed": false
   },
   "outputs": [
    {
     "name": "stdout",
     "output_type": "stream",
     "text": [
      "Size of ITFP: 1974\n",
      "Size of Slowkow without ITFP: 1130\n",
      "ITFP's contribution to slowkow: 1575\n"
     ]
    }
   ],
   "source": [
    "itfp_list = load_subdb('./slowkow_databases/ITFP_TF.txt')\n",
    "not_itfp = load_all_others(\"ITFP\")\n",
    "print 'Size of ITFP: ' + str(len(itfp_list))\n",
    "print 'Size of Slowkow without ITFP: ' + str(len(not_itfp))\n",
    "contribution2 = len(itfp_list) - len(list(set(itfp_list) & set(not_itfp)))\n",
    "print 'ITFP\\'s contribution to slowkow: ' + str(contribution2)"
   ]
  },
  {
   "cell_type": "markdown",
   "metadata": {},
   "source": [
    "### ENCODE\n",
    "<a id='encode'></a>"
   ]
  },
  {
   "cell_type": "code",
   "execution_count": 18,
   "metadata": {
    "collapsed": false
   },
   "outputs": [
    {
     "name": "stdout",
     "output_type": "stream",
     "text": [
      "Size of ENCODE: 157\n",
      "Size of Slowkow without ENCODE: 2676\n",
      "ENCODE's contribution to slowkow: 29\n"
     ]
    }
   ],
   "source": [
    "encode_list = load_subdb('./slowkow_databases/ENCODE_TF.txt')\n",
    "not_encode = load_all_others(\"ENCODE\")\n",
    "print 'Size of ENCODE: ' + str(len(encode_list))\n",
    "print 'Size of Slowkow without ENCODE: ' + str(len(not_encode))\n",
    "contribution3 = len(encode_list) - len(list(set(encode_list) & set(not_encode)))\n",
    "print 'ENCODE\\'s contribution to slowkow: ' + str(contribution3)"
   ]
  },
  {
   "cell_type": "markdown",
   "metadata": {},
   "source": [
    "### Neph2012\n",
    "<a id='neph2012'></a>"
   ]
  },
  {
   "cell_type": "code",
   "execution_count": 19,
   "metadata": {
    "collapsed": false
   },
   "outputs": [
    {
     "name": "stdout",
     "output_type": "stream",
     "text": [
      "Size of Neph2012: 536\n",
      "Size of Slowkow without Neph2012: 2682\n",
      "Neph2012's contribution to slowkow: 23\n"
     ]
    }
   ],
   "source": [
    "neph2012_list = load_subdb('./slowkow_databases/Neph2012_TF.txt')\n",
    "not_neph2012 = load_all_others(\"Neph2012\")\n",
    "print 'Size of Neph2012: ' + str(len(neph2012_list))\n",
    "print 'Size of Slowkow without Neph2012: ' + str(len(not_neph2012))\n",
    "contribution4 = len(neph2012_list) - len(list(set(neph2012_list) & set(not_neph2012)))\n",
    "print 'Neph2012\\'s contribution to slowkow: ' + str(contribution4)"
   ]
  },
  {
   "cell_type": "markdown",
   "metadata": {},
   "source": [
    "### TRRUST\n",
    "<a id='trrust'></a>"
   ]
  },
  {
   "cell_type": "code",
   "execution_count": 21,
   "metadata": {
    "collapsed": false
   },
   "outputs": [
    {
     "name": "stdout",
     "output_type": "stream",
     "text": [
      "Size of TRRUST: 748\n",
      "Size of Slowkow without TRRUST: 2521\n",
      "TRRUST's contribution to slowkow: 184\n"
     ]
    }
   ],
   "source": [
    "trrust_list = load_subdb('./slowkow_databases/TRRUST_TF.txt')\n",
    "not_trrust = load_all_others(\"TRRUST\")\n",
    "print 'Size of TRRUST: ' + str(len(trrust_list))\n",
    "print 'Size of Slowkow without TRRUST: ' + str(len(not_trrust))\n",
    "contribution5 = len(trrust_list) - len(list(set(trrust_list) & set(not_trrust)))\n",
    "print 'TRRUST\\'s contribution to slowkow: ' + str(contribution5)"
   ]
  },
  {
   "cell_type": "markdown",
   "metadata": {},
   "source": [
    "### Marbach2016\n",
    "<a id='marbach2016'></a>"
   ]
  },
  {
   "cell_type": "code",
   "execution_count": 22,
   "metadata": {
    "collapsed": false
   },
   "outputs": [
    {
     "name": "stdout",
     "output_type": "stream",
     "text": [
      "Size of Marbach2016: 643\n",
      "Size of Slowkow without Marbach2016: 2550\n",
      "Marbach2016's contribution to slowkow: 155\n"
     ]
    }
   ],
   "source": [
    "marbach2016_list = load_subdb('./slowkow_databases/Marbach2016_TF.txt')\n",
    "not_marbach2016 = load_all_others(\"Marbach2016\")\n",
    "print 'Size of Marbach2016: ' + str(len(marbach2016_list))\n",
    "print 'Size of Slowkow without Marbach2016: ' + str(len(not_marbach2016))\n",
    "contribution6 = len(marbach2016_list) - len(list(set(marbach2016_list) & set(not_marbach2016)))\n",
    "print 'Marbach2016\\'s contribution to slowkow: ' + str(contribution6)"
   ]
  },
  {
   "cell_type": "markdown",
   "metadata": {},
   "source": [
    "## Jaspar Genereg\n",
    "<a id='jaspar'></a>"
   ]
  },
  {
   "cell_type": "markdown",
   "metadata": {},
   "source": [
    "The 2016 version of Jaspar's TF database can be dowloaded as a .txt file [here](http://jaspar2016.genereg.net/). At the bottom of the page, navigate to the \"Download\" button. Open the \"database\" file and download \"MATRIX.txt\". "
   ]
  },
  {
   "cell_type": "code",
   "execution_count": 23,
   "metadata": {
    "collapsed": false
   },
   "outputs": [
    {
     "data": {
      "text/plain": [
       "2049"
      ]
     },
     "execution_count": 23,
     "metadata": {},
     "output_type": "execute_result"
    }
   ],
   "source": [
    "def load_jaspar(filename):\n",
    "    \n",
    "    # parse jaspar file\n",
    "    jasp_df = pd.read_csv(filename, sep = \"\\t\", header= None, names = ['col1', 'col2', 'col3', 'col4', 'tf_genes'])\n",
    "    \n",
    "    # return transcription factors with ALL CAPS names\n",
    "    return list(jasp_df['tf_genes'].str.upper())"
   ]
  },
  {
   "cell_type": "code",
   "execution_count": 28,
   "metadata": {
    "collapsed": false
   },
   "outputs": [
    {
     "name": "stdout",
     "output_type": "stream",
     "text": [
      "Size of Jaspar Database: 2049\n",
      "Size of Slowkow Database: 2705\n",
      "Number of nodes unique to Jaspar: 1530\n",
      "Number of nodes unique to Slowkow: 2186\n"
     ]
    }
   ],
   "source": [
    "jasp = load_jaspar(\"jaspar_genereg_matrix.txt\")\n",
    "sk = load_all_others(\"None\")\n",
    "print \"Size of Jaspar Database: \" + str(len(jasp))\n",
    "print \"Size of Slowkow Database: \" + str(len(sk))\n",
    "contributionj = len(jasp) - len(list(set(jasp) & set(sk)))\n",
    "contributionsk = len(sk) - len(list(set(jasp) & set(sk)))\n",
    "print \"Number of nodes unique to Jaspar: \" + str(contributionj)\n",
    "print \"Number of nodes unique to Slowkow: \" + str(contributionsk)"
   ]
  },
  {
   "cell_type": "code",
   "execution_count": null,
   "metadata": {
    "collapsed": true
   },
   "outputs": [],
   "source": []
  }
 ],
 "metadata": {
  "kernelspec": {
   "display_name": "Python 2",
   "language": "python",
   "name": "python2"
  },
  "language_info": {
   "codemirror_mode": {
    "name": "ipython",
    "version": 2
   },
   "file_extension": ".py",
   "mimetype": "text/x-python",
   "name": "python",
   "nbconvert_exporter": "python",
   "pygments_lexer": "ipython2",
   "version": "2.7.11"
  }
 },
 "nbformat": 4,
 "nbformat_minor": 0
}
