{
 "cells": [
  {
   "cell_type": "code",
   "execution_count": 1,
   "metadata": {
    "collapsed": true
   },
   "outputs": [],
   "source": [
    "import numpy as np\n",
    "import pandas as pd\n",
    "import networkx as nx\n",
    "import scipy\n",
    "from scipy import stats\n",
    "import mygene\n",
    "import math\n",
    "\n",
    "import matplotlib as mpl\n",
    "mpl.rc('text', usetex = False)\n",
    "mpl.rc('font', family = 'serif')\n",
    "% matplotlib inline"
   ]
  },
  {
   "cell_type": "markdown",
   "metadata": {},
   "source": [
    "## Creating Background Network ###\n",
    "\n",
    "#### Load Brin's transcription factor's"
   ]
  },
  {
   "cell_type": "code",
   "execution_count": 2,
   "metadata": {
    "collapsed": true
   },
   "outputs": [],
   "source": [
    "# load TR list from AnimalTFDB \n",
    "TR_db_m = pd.read_csv(\"Mus_musculus_transcription_factors_gene_list.txt\", sep = \"\\t\")\n",
    "TR_db_h = pd.read_csv(\"Homo_sapiens_transcription_factors_gene_list.txt\", sep = \"\\t\")\n",
    "TR_db = TR_db_m.append(TR_db_h)\n",
    "TR_list_entrez = TR_db.Entrez_ID"
   ]
  },
  {
   "cell_type": "code",
   "execution_count": 3,
   "metadata": {
    "collapsed": false
   },
   "outputs": [
    {
     "data": {
      "text/plain": [
       "1691"
      ]
     },
     "execution_count": 3,
     "metadata": {},
     "output_type": "execute_result"
    }
   ],
   "source": [
    "len(TR_db_h)"
   ]
  },
  {
   "cell_type": "code",
   "execution_count": 42,
   "metadata": {
    "collapsed": false
   },
   "outputs": [
    {
     "name": "stdout",
     "output_type": "stream",
     "text": [
      "querying 1-1000...done.\n",
      "querying 1001-2000...done.\n",
      "querying 2001-2956...done.\n"
     ]
    },
    {
     "data": {
      "text/plain": [
       "2956"
      ]
     },
     "execution_count": 42,
     "metadata": {},
     "output_type": "execute_result"
    }
   ],
   "source": [
    "#translate TR list entrez to symbol\n",
    "mg = mygene.MyGeneInfo()\n",
    "translated_DF = mg.getgenes(set(TR_list_entrez), as_dataframe=True)\n",
    "animal_TF = translated_DF[\"symbol\"].str.upper()\n",
    "len(animal_TF)"
   ]
  },
  {
   "cell_type": "code",
   "execution_count": 5,
   "metadata": {
    "collapsed": true
   },
   "outputs": [],
   "source": [
    "# may need to check for Nan values, depending on the database\n",
    "\n",
    "#TR_list_not_found = translated_string_nodes[\"notfound\"]\n",
    "#\n",
    "#for i in range(len(TR_list_not_found)):\n",
    "#    if TR_list_not_found[i] is 'NaN':\n",
    "#        print 1"
   ]
  },
  {
   "cell_type": "code",
   "execution_count": 6,
   "metadata": {
    "collapsed": false
   },
   "outputs": [
    {
     "data": {
      "text/plain": [
       "2682"
      ]
     },
     "execution_count": 6,
     "metadata": {},
     "output_type": "execute_result"
    }
   ],
   "source": [
    "slowkow_TF_list = []\n",
    "for file_name in ['./slowkow_databases/TRED_TF.txt',\n",
    "                 './slowkow_databases/ITFP_TF.txt',\n",
    "                 './slowkow_databases/ENCODE_TF.txt',\n",
    "                 #'/slowkow_databases/Neph2012_TF.txt',\n",
    "                 './slowkow_databases/TRRUST_TF.txt',\n",
    "                  './slowkow_databases/Marbach2016_TF.txt']:\n",
    "    with open(file_name) as f:\n",
    "        lines = f.read().splitlines()\n",
    "        slowkow_TF_list.extend(lines)\n",
    "        \n",
    "[x.upper() for x in slowkow_TF_list]\n",
    "len(set(slowkow_TF_list)) "
   ]
  },
  {
   "cell_type": "code",
   "execution_count": 29,
   "metadata": {
    "collapsed": false
   },
   "outputs": [
    {
     "data": {
      "text/plain": [
       "2049"
      ]
     },
     "execution_count": 29,
     "metadata": {},
     "output_type": "execute_result"
    }
   ],
   "source": [
    "jasp_df = pd.read_csv(\"jaspar_genereg_matrix.txt\", sep = \"\\t\", header= None, names = ['col1', 'col2', 'col3', 'col4', 'tf_genes'])\n",
    "jasp_tf = jasp_df['tf_genes'].str.upper()\n",
    "len(jasp_tf)"
   ]
  },
  {
   "cell_type": "code",
   "execution_count": 43,
   "metadata": {
    "collapsed": false
   },
   "outputs": [
    {
     "data": {
      "text/plain": [
       "3694"
      ]
     },
     "execution_count": 43,
     "metadata": {},
     "output_type": "execute_result"
    }
   ],
   "source": [
    "TR_list_symbols = list(set(animal_TF) | set(slowkow_TF_list))\n",
    "len(TR_list_symbols)"
   ]
  },
  {
   "cell_type": "code",
   "execution_count": 46,
   "metadata": {
    "collapsed": false
   },
   "outputs": [
    {
     "data": {
      "text/plain": [
       "4962"
      ]
     },
     "execution_count": 46,
     "metadata": {},
     "output_type": "execute_result"
    }
   ],
   "source": [
    "TR_list_symbols = list(set(animal_TF) | set(slowkow_TF_list) | set(jasp_tf))\n",
    "len(TR_list_symbols)"
   ]
  },
  {
   "cell_type": "markdown",
   "metadata": {},
   "source": [
    "#### Cross reference Brin's TR list with background STRING db\n"
   ]
  },
  {
   "cell_type": "code",
   "execution_count": 47,
   "metadata": {
    "collapsed": true
   },
   "outputs": [],
   "source": [
    "# Load STRING database as background network\n",
    "STRING_DF = pd.read_excel(\"STRING_network.xlsx\")"
   ]
  },
  {
   "cell_type": "code",
   "execution_count": 48,
   "metadata": {
    "collapsed": false
   },
   "outputs": [],
   "source": [
    "# convert symbols to all caps, make into edge list\n",
    "sym1_list = STRING_DF.Symbol1.str.upper()\n",
    "sym2_list = STRING_DF.Symbol2.str.upper()\n",
    "weight_list = STRING_DF.Weight\n",
    "sign_list = STRING_DF.Edge_Sign\n",
    "db_edges = zip(sym1_list, sym2_list, weight_list)\n",
    "\n",
    "sign_num_list = []\n",
    "for sign in sign_list:\n",
    "    if str(sign) == '+':\n",
    "        sign_num_list.append(1)\n",
    "    elif str(sign) == '-':\n",
    "        sign_num_list.append(-1)\n",
    "    else:\n",
    "        sign_num_list.append(0)\n",
    "\n",
    "db_sign_att = zip(sym1_list, sym2_list, sign_num_list)"
   ]
  },
  {
   "cell_type": "code",
   "execution_count": 52,
   "metadata": {
    "collapsed": false
   },
   "outputs": [
    {
     "data": {
      "text/plain": [
       "3580"
      ]
     },
     "execution_count": 52,
     "metadata": {},
     "output_type": "execute_result"
    }
   ],
   "source": [
    "#num unique nodes STRING\n",
    "len(np.unique(list(sym1_list)+list(sym2_list)))"
   ]
  },
  {
   "cell_type": "code",
   "execution_count": 53,
   "metadata": {
    "collapsed": false,
    "scrolled": false
   },
   "outputs": [],
   "source": [
    "# extracting TR edge information from background string db\n",
    "edge_list_filtered_TR = []\n",
    "sign_att_filtered_list = []\n",
    "for i in range(len(db_edges)):\n",
    "    if db_edges[i][0] in list(TR_list_symbols):\n",
    "        edge_list_filtered_TR.append(db_edges[i])\n",
    "        sign_att_filtered_list.append(db_sign_att[i])"
   ]
  },
  {
   "cell_type": "code",
   "execution_count": 54,
   "metadata": {
    "collapsed": false
   },
   "outputs": [],
   "source": [
    "# make and process directed graph from these two tables\n",
    "DG = nx.DiGraph()\n",
    "DG.add_weighted_edges_from(edge_list_filtered_TR)\n",
    "for i in range(len(sign_att_filtered_list)):\n",
    "    DG[sign_att_filtered_list[i][0]][sign_att_filtered_list[i][1]]['sign'] = sign_att_filtered_list[i][2]"
   ]
  },
  {
   "cell_type": "code",
   "execution_count": 55,
   "metadata": {
    "collapsed": false
   },
   "outputs": [
    {
     "data": {
      "text/plain": [
       "687"
      ]
     },
     "execution_count": 55,
     "metadata": {},
     "output_type": "execute_result"
    }
   ],
   "source": [
    "len(DG.nodes())"
   ]
  },
  {
   "cell_type": "code",
   "execution_count": 56,
   "metadata": {
    "collapsed": false
   },
   "outputs": [
    {
     "data": {
      "text/plain": [
       "102"
      ]
     },
     "execution_count": 56,
     "metadata": {},
     "output_type": "execute_result"
    }
   ],
   "source": [
    "# number of TR's from Brin's list that are in the AnimalTFDB database\n",
    "len(list(set(sym1_list) & set(TR_list_symbols))) \n",
    "len(set(zip(*edge_list_filtered_TR)[0])) # multiple ways to do it"
   ]
  },
  {
   "cell_type": "markdown",
   "metadata": {},
   "source": [
    "### p-value with differencially expressed genes"
   ]
  },
  {
   "cell_type": "code",
   "execution_count": 57,
   "metadata": {
    "collapsed": false
   },
   "outputs": [],
   "source": [
    "# load differencially expressed genes (experimental results)\n",
    "DEG_db = pd.read_csv(\"differencially_expressed_genes.txt\", sep = \"\\t\")\n",
    "DEG_list = []\n",
    "DEG_to_updown = {}"
   ]
  },
  {
   "cell_type": "code",
   "execution_count": 58,
   "metadata": {
    "collapsed": true
   },
   "outputs": [],
   "source": [
    "# filtering for lfdr < 0.3\n",
    "for i in range(len(DEG_db)):\n",
    "    if str(DEG_db.symbol[i]).upper() != 'NAN': # removing Nan values\n",
    "        \n",
    "        if (DEG_db['lfdr.89.12'][i] < 0.3):\n",
    "            DEG_list.append(str(DEG_db.symbol[i]).upper()) # filtering DEG list by lfdr < 0.3\n",
    "            \n",
    "            # creating dictionary between DEG symbols and their up/down value\n",
    "            if DEG_db['log2.89.12'][i] != 0: \n",
    "                DEG_to_updown[str(DEG_db.symbol[i]).upper()] = (DEG_db['log2.89.12'][i])/abs(DEG_db['log2.89.12'][i])\n",
    "            else:\n",
    "                DEG_to_updown[str(DEG_db.symbol[i]).upper()] = 0\n",
    "                "
   ]
  },
  {
   "cell_type": "code",
   "execution_count": 59,
   "metadata": {
    "collapsed": false
   },
   "outputs": [],
   "source": [
    "DEG_in_DG = set(DG.nodes()) & set(DEG_list)\n",
    "zero_dict = dict(zip(DG.nodes(), [0]*len(DG.nodes())))\n",
    "for gene in DEG_in_DG:\n",
    "    zero_dict[gene] = DEG_to_updown[gene]\n",
    "nx.set_node_attributes(DG, 'updown', zero_dict) "
   ]
  },
  {
   "cell_type": "code",
   "execution_count": 60,
   "metadata": {
    "collapsed": false,
    "scrolled": true
   },
   "outputs": [
    {
     "data": {
      "text/plain": [
       "[u'HBN',\n",
       " u'PAX',\n",
       " u'SF1',\n",
       " u'AKT1',\n",
       " u'TIN',\n",
       " u'PAN',\n",
       " u'TOPORS',\n",
       " u'TAZ',\n",
       " u'SU(H)',\n",
       " u'SU(HW)',\n",
       " u'LIG3',\n",
       " u'HKB',\n",
       " u'MYB',\n",
       " u'PXN',\n",
       " u'H',\n",
       " u'NUP50',\n",
       " u'RAE1',\n",
       " u'STAT92E',\n",
       " u'SVP',\n",
       " u'SNA',\n",
       " u'MAX',\n",
       " u'ONECUT',\n",
       " u'RBBP5',\n",
       " u'SPEN',\n",
       " u'PTEN',\n",
       " u'MAD',\n",
       " u'MRPL44',\n",
       " u'SIN3A',\n",
       " u'TSG101',\n",
       " u'MRPL24',\n",
       " u'RPL8',\n",
       " u'EVE',\n",
       " u'MED1',\n",
       " u'SLBO',\n",
       " u'TRL',\n",
       " u'CDC16',\n",
       " u'TTK',\n",
       " u'NF1',\n",
       " u'GATA',\n",
       " u'SCR',\n",
       " u'RNPS1',\n",
       " u'BUB3',\n",
       " u'GCM',\n",
       " u'ING3',\n",
       " u'TAF7',\n",
       " u'TAF6',\n",
       " u'TAF5',\n",
       " u'GSTO1',\n",
       " u'TAF2',\n",
       " u'TAF1',\n",
       " u'CDC27',\n",
       " u'TBP',\n",
       " u'INR',\n",
       " u'HDAC3',\n",
       " u'NUP133',\n",
       " u'HDAC6',\n",
       " u'RFC4',\n",
       " u'ILK',\n",
       " u'REPO',\n",
       " u'TAF12',\n",
       " u'TAF11',\n",
       " u'RPS3',\n",
       " u'REL',\n",
       " u'CDC6',\n",
       " u'ECD',\n",
       " u'MRPL23',\n",
       " u'NUB',\n",
       " u'OPTIX',\n",
       " u'RPS24',\n",
       " u'RPS23',\n",
       " u'RPL23A',\n",
       " u'KLHL18',\n",
       " u'TAF4',\n",
       " u'ACHI',\n",
       " u'DFD',\n",
       " u'Z',\n",
       " u'TLL',\n",
       " u'ZEN2',\n",
       " u'KR',\n",
       " u'MARS',\n",
       " u'DL',\n",
       " u'BAP',\n",
       " u'MSH6',\n",
       " u'VHL',\n",
       " u'MED15',\n",
       " u'CNOT4',\n",
       " u'FKH',\n",
       " u'INTS6',\n",
       " u'INTS4',\n",
       " u'INTS8',\n",
       " u'ANTP',\n",
       " u'MCM7',\n",
       " u'MCM6',\n",
       " u'MCM5',\n",
       " u'MCM3',\n",
       " u'MCM2',\n",
       " u'ARR1',\n",
       " u'UTX',\n",
       " u'CG11294',\n",
       " u'PNR',\n",
       " u'ABD-B',\n",
       " u'ATF6']"
      ]
     },
     "execution_count": 60,
     "metadata": {},
     "output_type": "execute_result"
    }
   ],
   "source": [
    "# unique source nodes\n",
    "source_nodes = list(set(zip(*DG.edges())[0]))\n",
    "source_nodes"
   ]
  },
  {
   "cell_type": "code",
   "execution_count": 61,
   "metadata": {
    "collapsed": true
   },
   "outputs": [],
   "source": [
    "#DEG_list = [7,9,10]\n",
    "#edge_list = [(2,5), (2,4), (1,5), (3,5), (3,4), (6,4), (6,7), (6,9), (6,10), (8,9), (8,10)]\n",
    "#DG = nx.DiGraph()\n",
    "#DG.add_edges_from(edge_list)\n",
    "#sym1_list = [2, 2, 1, 3, 3, 6, 6, 6, 6, 8, 8]\n",
    "#sym2_list = [5, 4, 5, 5, 4, 4, 7, 9, 10, 9, 10]\n",
    "#source_nodes = list(set(zip(*DG.edges())[0]))\n",
    "#print 'source_nodes: ' + str(source_nodes)"
   ]
  },
  {
   "cell_type": "code",
   "execution_count": 62,
   "metadata": {
    "collapsed": false,
    "scrolled": true
   },
   "outputs": [
    {
     "data": {
      "text/plain": [
       "{u'ABD-B': 2.5619299458469871,\n",
       " u'ACHI': 4.1400668115618942,\n",
       " u'AKT1': 2.0051353444087323,\n",
       " u'ANTP': 4.1400668115618942,\n",
       " u'ARR1': 3.4547738088253737,\n",
       " u'ATF6': 1.6680928067230729,\n",
       " u'BAP': 2.3873854072043095,\n",
       " u'BUB3': 1.2902562879815764,\n",
       " u'CDC16': 3.1441987530558704,\n",
       " u'CDC27': 2.0214533281293834,\n",
       " u'CDC6': 3.909551880959754,\n",
       " u'CG11294': 3.4547738088253737,\n",
       " u'CNOT4': 2.0051353444087323,\n",
       " u'DFD': 4.1400668115618942,\n",
       " u'DL': 5.3485051248405746,\n",
       " u'ECD': 2.5619299458469871,\n",
       " u'EVE': 4.1400668115618942,\n",
       " u'FKH': 4.1400668115618942,\n",
       " u'GATA': 4.1400668115618942,\n",
       " u'GCM': 4.1400668115618942,\n",
       " u'GSTO1': 4.1400668115618942,\n",
       " u'H': 2.3873854072043095,\n",
       " u'HBN': 4.1400668115618942,\n",
       " u'HDAC3': 2.3873854072043095,\n",
       " u'HDAC6': 2.7772771668834308,\n",
       " u'HKB': 3.4547738088253737,\n",
       " u'ILK': 3.4547738088253737,\n",
       " u'ING3': 2.3873854072043095,\n",
       " u'INR': 1.9074744647345609,\n",
       " u'INTS4': 5.6306387511600979,\n",
       " u'INTS6': 6.0258370197540474,\n",
       " u'INTS8': 6.5263844837145308,\n",
       " u'KLHL18': 1.8198445447027656,\n",
       " u'KR': 4.1400668115618942,\n",
       " u'LIG3': 4.1400668115618942,\n",
       " u'MAD': 4.1400668115618942,\n",
       " u'MARS': 2.5619299458469871,\n",
       " u'MAX': 4.1400668115618942,\n",
       " u'MCM2': 3.9716418433387393,\n",
       " u'MCM3': 5.3485051248405746,\n",
       " u'MCM5': 4.053527707140546,\n",
       " u'MCM6': 6.8878747785329528,\n",
       " u'MCM7': 3.776614215927955,\n",
       " u'MED1': 3.5382108565562818,\n",
       " u'MED15': 4.9811500142939549,\n",
       " u'MRPL23': 4.1400668115618942,\n",
       " u'MRPL24': 11.390485545205054,\n",
       " u'MRPL44': 4.1400668115618942,\n",
       " u'MSH6': 4.1400668115618942,\n",
       " u'MYB': 3.057143611371584,\n",
       " u'NF1': 3.4547738088253737,\n",
       " u'NUB': 2.7772771668834308,\n",
       " u'NUP133': 1.6016069007637868,\n",
       " u'NUP50': 1.0421444993889257,\n",
       " u'ONECUT': 3.4547738088253737,\n",
       " u'OPTIX': 4.1400668115618942,\n",
       " u'PAN': 2.3873854072043095,\n",
       " u'PAX': 9.5111898014729821,\n",
       " u'PNR': 4.1400668115618942,\n",
       " u'PTEN': 4.3825187727198189,\n",
       " u'PXN': 4.1400668115618942,\n",
       " u'RAE1': 1.2489520970062125,\n",
       " u'RBBP5': 4.1400668115618942,\n",
       " u'REL': 4.7859022137841105,\n",
       " u'REPO': 3.4547738088253737,\n",
       " u'RFC4': 2.506248904074198,\n",
       " u'RNPS1': 2.9780655427250147,\n",
       " u'RPL23A': 5.1249880701978325,\n",
       " u'RPL8': 4.9704305599877383,\n",
       " u'RPS23': 4.4500688509827331,\n",
       " u'RPS24': 6.1873697276893855,\n",
       " u'RPS3': 6.3039359844708365,\n",
       " u'SCR': 4.1400668115618942,\n",
       " u'SF1': 4.1400668115618942,\n",
       " u'SIN3A': 1.5402166778162427,\n",
       " u'SLBO': 7.1814092062748056,\n",
       " u'SNA': 4.1400668115618942,\n",
       " u'SPEN': 4.1400668115618942,\n",
       " u'STAT92E': 2.2409924194965458,\n",
       " u'SU(H)': 2.3873854072043095,\n",
       " u'SU(HW)': 3.4547738088253737,\n",
       " u'SVP': 2.1151993795793307,\n",
       " u'TAF1': 4.1259115459577504,\n",
       " u'TAF11': 5.9385052959877074,\n",
       " u'TAF12': 2.1955163232069257,\n",
       " u'TAF2': 4.053527707140546,\n",
       " u'TAF4': 2.5652583509085751,\n",
       " u'TAF5': 4.1259115459577504,\n",
       " u'TAF6': 2.8277732133489244,\n",
       " u'TAF7': 2.1151993795793307,\n",
       " u'TAZ': 4.1400668115618942,\n",
       " u'TBP': 2.2409924194965458,\n",
       " u'TIN': 3.057143611371584,\n",
       " u'TLL': 4.1400668115618942,\n",
       " u'TOPORS': 4.1400668115618942,\n",
       " u'TRL': 3.4547738088253737,\n",
       " u'TSG101': 2.3873854072043095,\n",
       " u'TTK': 2.1151993795793307,\n",
       " u'UTX': 4.1400668115618942,\n",
       " u'VHL': 2.0051353444087323,\n",
       " u'Z': 7.2092422239418363,\n",
       " u'ZEN2': 4.1400668115618942}"
      ]
     },
     "execution_count": 62,
     "metadata": {},
     "output_type": "execute_result"
    }
   ],
   "source": [
    "# calculating all the p-scores\n",
    "\n",
    "def tr_pvalues(DG, background_list, DEG_list):\n",
    "    \n",
    "    source_nodes = list(set(zip(*DG.edges())[0]))  #identifying unique source nodes in graph\n",
    "    \n",
    "    TR_to_pvalue = {}\n",
    "    for TR in source_nodes:\n",
    "        x = len(list(set(DG.neighbors(TR)) & set(DEG_list))) # per TR, observed overlap between TR neighbors and DEG_list\n",
    "        M = len(background_list)  # num unique nodes in universe, aka background network (STRING)\n",
    "        n = len(DG.neighbors(TR)) # per TR, number of targets for that TR\n",
    "        N = len(list(set(background_list) & set(DEG_list))) # number of DEG, picked from universe \"at random\" (TODO: intersection)\n",
    "    \n",
    "        TR_to_pvalue[TR] = -(scipy.stats.hypergeom.logsf(x, M, n, N, loc=0)) # remove unnecessary negative sign\n",
    "        \n",
    "    return TR_to_pvalue \n",
    "    \n",
    "un = np.unique(list(sym1_list)+list(sym2_list))\n",
    "tr_pvalues(DG, un, DEG_list)"
   ]
  },
  {
   "cell_type": "markdown",
   "metadata": {},
   "source": [
    "### z-score with DEG"
   ]
  },
  {
   "cell_type": "code",
   "execution_count": 63,
   "metadata": {
    "collapsed": false,
    "scrolled": true
   },
   "outputs": [
    {
     "data": {
      "text/plain": [
       "{u'ABD-B': 0,\n",
       " u'ACHI': 0,\n",
       " u'AKT1': 0,\n",
       " u'ANTP': 0,\n",
       " u'ARR1': 0,\n",
       " u'ATF6': 0,\n",
       " u'BAP': 0,\n",
       " u'BUB3': 0,\n",
       " u'CDC16': -1.0,\n",
       " u'CDC27': -1.0,\n",
       " u'CDC6': -1.0,\n",
       " u'CG11294': 0,\n",
       " u'CNOT4': 0,\n",
       " u'DFD': 0,\n",
       " u'DL': 0.0,\n",
       " u'ECD': 0,\n",
       " u'EVE': 0,\n",
       " u'FKH': 0,\n",
       " u'GATA': 0,\n",
       " u'GCM': 0,\n",
       " u'GSTO1': 0,\n",
       " u'H': 0,\n",
       " u'HBN': 0,\n",
       " u'HDAC3': 0,\n",
       " u'HDAC6': 0,\n",
       " u'HKB': 0,\n",
       " u'ILK': 0,\n",
       " u'ING3': 0,\n",
       " u'INR': 0,\n",
       " u'INTS4': -1.0,\n",
       " u'INTS6': -1.0,\n",
       " u'INTS8': -1.0,\n",
       " u'KLHL18': 0,\n",
       " u'KR': 0,\n",
       " u'LIG3': 0,\n",
       " u'MAD': 0,\n",
       " u'MARS': 0,\n",
       " u'MAX': 0,\n",
       " u'MCM2': -1.414213562373095,\n",
       " u'MCM3': -1.414213562373095,\n",
       " u'MCM5': -1.0,\n",
       " u'MCM6': -0.5773502691896258,\n",
       " u'MCM7': -1.0,\n",
       " u'MED1': -1.0,\n",
       " u'MED15': -1.414213562373095,\n",
       " u'MRPL23': 0,\n",
       " u'MRPL24': -1.7320508075688774,\n",
       " u'MRPL44': 0,\n",
       " u'MSH6': 0,\n",
       " u'MYB': 0,\n",
       " u'NF1': 0,\n",
       " u'NUB': 0,\n",
       " u'NUP133': 0,\n",
       " u'NUP50': 0,\n",
       " u'ONECUT': 0,\n",
       " u'OPTIX': 0,\n",
       " u'PAN': 0,\n",
       " u'PAX': 0.0,\n",
       " u'PNR': 0,\n",
       " u'PTEN': -1.0,\n",
       " u'PXN': 0,\n",
       " u'RAE1': 0,\n",
       " u'RBBP5': 0,\n",
       " u'REL': -1.0,\n",
       " u'REPO': 0,\n",
       " u'RFC4': -1.0,\n",
       " u'RNPS1': -1.0,\n",
       " u'RPL23A': 1.3416407864998738,\n",
       " u'RPL8': 1.6329931618554523,\n",
       " u'RPS23': 2.23606797749979,\n",
       " u'RPS24': 1.6329931618554523,\n",
       " u'RPS3': 1.889822365046136,\n",
       " u'SCR': 0,\n",
       " u'SF1': 0,\n",
       " u'SIN3A': 0,\n",
       " u'SLBO': 0.0,\n",
       " u'SNA': 0,\n",
       " u'SPEN': 0,\n",
       " u'STAT92E': 0,\n",
       " u'SU(H)': 0,\n",
       " u'SU(HW)': 0,\n",
       " u'SVP': 0,\n",
       " u'TAF1': 0.0,\n",
       " u'TAF11': 0.0,\n",
       " u'TAF12': 1.0,\n",
       " u'TAF2': 1.0,\n",
       " u'TAF4': -1.0,\n",
       " u'TAF5': 0.0,\n",
       " u'TAF6': 1.0,\n",
       " u'TAF7': 0,\n",
       " u'TAZ': 0,\n",
       " u'TBP': 0,\n",
       " u'TIN': 0,\n",
       " u'TLL': 0,\n",
       " u'TOPORS': 0,\n",
       " u'TRL': 0,\n",
       " u'TSG101': 0,\n",
       " u'TTK': 0,\n",
       " u'UTX': 0,\n",
       " u'VHL': 0,\n",
       " u'Z': -1.0,\n",
       " u'ZEN2': 0}"
      ]
     },
     "execution_count": 63,
     "metadata": {},
     "output_type": "execute_result"
    }
   ],
   "source": [
    "# NOTE! This is only counting N+ and N- for nodes in our DEG list.\n",
    "\n",
    "def tr_zscore(DG, DEG_list):\n",
    "    \n",
    "    source_nodes = list(set(zip(*DG.edges())[0])) #identifying unique source nodes in graph\n",
    "    \n",
    "    TR_to_zscore = {}\n",
    "    for TR in source_nodes:\n",
    "        N_minus = 0 # number of inhibiting predicting DEG edges\n",
    "        N_plus = 0 # number of activating predicting DEG edges\n",
    "        N_zero = 0 # number of edges with errorous calculations\n",
    "    \n",
    "        TRs_DEG_neighbors = set(DG.neighbors(TR)) & set(DEG_list)\n",
    "        for n in TRs_DEG_neighbors:\n",
    "                sign_of_edge = DG[TR][n]['sign']\n",
    "                up_down_of_n = DG.node[n]['updown']\n",
    "                \n",
    "                # predict whether this neighbor thinks the TR is Act. or Inhib.\n",
    "                if ((sign_of_edge * up_down_of_n) == 1):\n",
    "                    N_plus += 1\n",
    "                elif ((sign_of_edge * up_down_of_n) == -1):\n",
    "                    N_minus += 1\n",
    "                else:\n",
    "                    N_zero += 1 # mark an error if could not predict\n",
    "                    print \"Issue with edge (\" + str(TR) + ',' + str(n) + ')'\n",
    "                \n",
    "        if N_zero != 0:\n",
    "            print \"Could not attribute activated or inhibiting trait to \" + str(N_zero) + 'nodes'\n",
    "      \n",
    "        # prevent a divide-by-zero calculation\n",
    "        N = N_plus + N_minus\n",
    "        if N == 0:\n",
    "            z_score = 0\n",
    "        else:\n",
    "            z_score = (N_plus - N_minus)/float(math.sqrt(N))\n",
    "                \n",
    "        TR_to_zscore[TR] = z_score #create zscore dict where 1 means activating\n",
    "                                                            # -1 means inhibiting\n",
    "                                                            # 0 means could not be calculated\n",
    "    \n",
    "    return TR_to_zscore\n",
    "\n",
    "tr_zscore(DG, DEG_list)"
   ]
  },
  {
   "cell_type": "code",
   "execution_count": null,
   "metadata": {
    "collapsed": true
   },
   "outputs": [],
   "source": []
  }
 ],
 "metadata": {
  "kernelspec": {
   "display_name": "Python 2",
   "language": "python",
   "name": "python2"
  },
  "language_info": {
   "codemirror_mode": {
    "name": "ipython",
    "version": 2
   },
   "file_extension": ".py",
   "mimetype": "text/x-python",
   "name": "python",
   "nbconvert_exporter": "python",
   "pygments_lexer": "ipython2",
   "version": "2.7.11"
  }
 },
 "nbformat": 4,
 "nbformat_minor": 0
}
