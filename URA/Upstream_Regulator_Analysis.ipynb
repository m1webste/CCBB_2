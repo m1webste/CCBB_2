{
 "cells": [
  {
   "cell_type": "code",
   "execution_count": 28,
   "metadata": {
    "collapsed": true
   },
   "outputs": [],
   "source": [
    "import numpy as np\n",
    "import pandas as pd\n",
    "import networkx as nx\n",
    "import scipy\n",
    "from scipy import stats\n",
    "import mygene\n",
    "import math\n",
    "\n",
    "import matplotlib as mpl\n",
    "mpl.rc('text', usetex = False)\n",
    "mpl.rc('font', family = 'serif')\n",
    "% matplotlib inline"
   ]
  },
  {
   "cell_type": "code",
   "execution_count": null,
   "metadata": {
    "collapsed": true
   },
   "outputs": [],
   "source": [
    "from rpy2.robjects import default_converter\n",
    "from rpy2.robjects import pandas2ri\n",
    "from rpy2.robjects.conversion import localconverter\n",
    "\n",
    "# use the default conversion rules to which the pandas conversion\n",
    "# is added\n",
    "with localconverter(default_converter + pandas2ri.converter) as cv:\n",
    "    dataf = robjects.r[\"data\"]"
   ]
  },
  {
   "cell_type": "markdown",
   "metadata": {},
   "source": [
    "## Creating Background Network ###\n",
    "\n",
    "#### Load Brin's transcription factor's"
   ]
  },
  {
   "cell_type": "code",
   "execution_count": 2,
   "metadata": {
    "collapsed": true
   },
   "outputs": [],
   "source": [
    "# load TR list from AnimalTFDB \n",
    "TR_db_m = pd.read_csv(\"Mus_musculus_transcription_factors_gene_list.txt\", sep = \"\\t\")\n",
    "TR_db_h = pd.read_csv(\"Homo_sapiens_transcription_factors_gene_list.txt\", sep = \"\\t\")\n",
    "TR_db = TR_db_m.append(TR_db_h)\n",
    "TR_list_entrez = TR_db.Entrez_ID"
   ]
  },
  {
   "cell_type": "code",
   "execution_count": 3,
   "metadata": {
    "collapsed": false
   },
   "outputs": [
    {
     "data": {
      "text/plain": [
       "1691"
      ]
     },
     "execution_count": 3,
     "metadata": {},
     "output_type": "execute_result"
    }
   ],
   "source": [
    "len(TR_db_h)"
   ]
  },
  {
   "cell_type": "code",
   "execution_count": 4,
   "metadata": {
    "collapsed": false
   },
   "outputs": [
    {
     "name": "stdout",
     "output_type": "stream",
     "text": [
      "querying 1-1000...done.\n",
      "querying 1001-2000...done.\n",
      "querying 2001-2956...done.\n"
     ]
    }
   ],
   "source": [
    "#translate TR list entrez to symbol\n",
    "mg = mygene.MyGeneInfo()\n",
    "translated_DF = mg.getgenes(set(TR_list_entrez), as_dataframe=True)\n",
    "TR_list_symbols = translated_DF[\"symbol\"].str.upper()"
   ]
  },
  {
   "cell_type": "code",
   "execution_count": 5,
   "metadata": {
    "collapsed": true
   },
   "outputs": [],
   "source": [
    "# may need to check for Nan values, depending on the database\n",
    "\n",
    "#TR_list_not_found = translated_string_nodes[\"notfound\"]\n",
    "#\n",
    "#for i in range(len(TR_list_not_found)):\n",
    "#    if TR_list_not_found[i] is 'NaN':\n",
    "#        print 1"
   ]
  },
  {
   "cell_type": "markdown",
   "metadata": {},
   "source": [
    "#### Cross reference Brin's TR list with background STRING db\n"
   ]
  },
  {
   "cell_type": "code",
   "execution_count": 6,
   "metadata": {
    "collapsed": true
   },
   "outputs": [],
   "source": [
    "# Load STRING database as background network\n",
    "STRING_DF = pd.read_excel(\"STRING_network.xlsx\")"
   ]
  },
  {
   "cell_type": "code",
   "execution_count": 7,
   "metadata": {
    "collapsed": false
   },
   "outputs": [],
   "source": [
    "# convert symbols to all caps, make into edge list\n",
    "sym1_list = STRING_DF.Symbol1.str.upper()\n",
    "sym2_list = STRING_DF.Symbol2.str.upper()\n",
    "weight_list = STRING_DF.Weight\n",
    "sign_list = STRING_DF.Edge_Sign\n",
    "db_edges = zip(sym1_list, sym2_list, weight_list)\n",
    "\n",
    "sign_num_list = []\n",
    "for sign in sign_list:\n",
    "    if str(sign) == '+':\n",
    "        sign_num_list.append(1)\n",
    "    elif str(sign) == '-':\n",
    "        sign_num_list.append(-1)\n",
    "    else:\n",
    "        sign_num_list.append(0)\n",
    "\n",
    "db_sign_att = zip(sym1_list, sym2_list, sign_num_list)"
   ]
  },
  {
   "cell_type": "code",
   "execution_count": 8,
   "metadata": {
    "collapsed": false
   },
   "outputs": [
    {
     "data": {
      "text/plain": [
       "3580"
      ]
     },
     "execution_count": 8,
     "metadata": {},
     "output_type": "execute_result"
    }
   ],
   "source": [
    "#num unique nodes STRING\n",
    "len(np.unique(list(sym1_list)+list(sym2_list)))"
   ]
  },
  {
   "cell_type": "code",
   "execution_count": 9,
   "metadata": {
    "collapsed": false,
    "scrolled": false
   },
   "outputs": [],
   "source": [
    "# extracting TR edge information from background string db\n",
    "edge_list_filtered_TR = []\n",
    "sign_att_filtered_list = []\n",
    "for i in range(len(db_edges)):\n",
    "    if db_edges[i][0] in list(TR_list_symbols):\n",
    "        edge_list_filtered_TR.append(db_edges[i])\n",
    "        sign_att_filtered_list.append(db_sign_att[i])"
   ]
  },
  {
   "cell_type": "code",
   "execution_count": 10,
   "metadata": {
    "collapsed": false
   },
   "outputs": [],
   "source": [
    "# make and process directed graph from these two tables\n",
    "DG = nx.DiGraph()\n",
    "DG.add_weighted_edges_from(edge_list_filtered_TR)\n",
    "for i in range(len(sign_att_filtered_list)):\n",
    "    DG[sign_att_filtered_list[i][0]][sign_att_filtered_list[i][1]]['sign'] = sign_att_filtered_list[i][2]"
   ]
  },
  {
   "cell_type": "code",
   "execution_count": 11,
   "metadata": {
    "collapsed": false
   },
   "outputs": [
    {
     "data": {
      "text/plain": [
       "37"
      ]
     },
     "execution_count": 11,
     "metadata": {},
     "output_type": "execute_result"
    }
   ],
   "source": [
    "len(DG.nodes())"
   ]
  },
  {
   "cell_type": "code",
   "execution_count": 12,
   "metadata": {
    "collapsed": false
   },
   "outputs": [
    {
     "data": {
      "text/plain": [
       "5"
      ]
     },
     "execution_count": 12,
     "metadata": {},
     "output_type": "execute_result"
    }
   ],
   "source": [
    "# number of TR's from Brin's list that are in the AnimalTFDB database\n",
    "len(list(set(sym1_list) & set(TR_list_symbols))) \n",
    "len(set(zip(*edge_list_filtered_TR)[0])) # multiple ways to do it"
   ]
  },
  {
   "cell_type": "markdown",
   "metadata": {},
   "source": [
    "### p-value with differencially expressed genes"
   ]
  },
  {
   "cell_type": "code",
   "execution_count": 13,
   "metadata": {
    "collapsed": false
   },
   "outputs": [],
   "source": [
    "# load differencially expressed genes (experimental results)\n",
    "DEG_db = pd.read_csv(\"differencially_expressed_genes.txt\", sep = \"\\t\")\n",
    "DEG_list = []\n",
    "DEG_to_updown = {}"
   ]
  },
  {
   "cell_type": "code",
   "execution_count": 14,
   "metadata": {
    "collapsed": true
   },
   "outputs": [],
   "source": [
    "# filtering for lfdr < 0.3\n",
    "for i in range(len(DEG_db)):\n",
    "    if str(DEG_db.symbol[i]).upper() != 'NAN': # removing Nan values\n",
    "        \n",
    "        if (DEG_db['lfdr.89.12'][i] < 0.3):\n",
    "            DEG_list.append(str(DEG_db.symbol[i]).upper()) # filtering DEG list by lfdr < 0.3\n",
    "            \n",
    "            # creating dictionary between DEG symbols and their up/down value\n",
    "            if DEG_db['log2.89.12'][i] != 0: \n",
    "                DEG_to_updown[str(DEG_db.symbol[i]).upper()] = (DEG_db['log2.89.12'][i])/abs(DEG_db['log2.89.12'][i])\n",
    "            else:\n",
    "                DEG_to_updown[str(DEG_db.symbol[i]).upper()] = 0\n",
    "                "
   ]
  },
  {
   "cell_type": "code",
   "execution_count": 16,
   "metadata": {
    "collapsed": false
   },
   "outputs": [],
   "source": [
    "DEG_in_DG = set(DG.nodes()) & set(DEG_list)\n",
    "zero_dict = dict(zip(DG.nodes(), [0]*len(DG.nodes())))\n",
    "for gene in DEG_in_DG:\n",
    "    zero_dict[gene] = DEG_to_updown[gene]\n",
    "nx.set_node_attributes(DG, 'updown', zero_dict) "
   ]
  },
  {
   "cell_type": "code",
   "execution_count": null,
   "metadata": {
    "collapsed": false
   },
   "outputs": [],
   "source": [
    "# unique source nodes\n",
    "source_nodes = list(set(zip(*DG.edges())[0]))\n",
    "source_nodes"
   ]
  },
  {
   "cell_type": "code",
   "execution_count": null,
   "metadata": {
    "collapsed": true
   },
   "outputs": [],
   "source": [
    "#DEG_list = [7,9,10]\n",
    "#edge_list = [(2,5), (2,4), (1,5), (3,5), (3,4), (6,4), (6,7), (6,9), (6,10), (8,9), (8,10)]\n",
    "#DG = nx.DiGraph()\n",
    "#DG.add_edges_from(edge_list)\n",
    "#sym1_list = [2, 2, 1, 3, 3, 6, 6, 6, 6, 8, 8]\n",
    "#sym2_list = [5, 4, 5, 5, 4, 4, 7, 9, 10, 9, 10]\n",
    "#source_nodes = list(set(zip(*DG.edges())[0]))\n",
    "#print 'source_nodes: ' + str(source_nodes)"
   ]
  },
  {
   "cell_type": "code",
   "execution_count": null,
   "metadata": {
    "collapsed": false
   },
   "outputs": [],
   "source": [
    "# calculating all the p-scores\n",
    "\n",
    "def tr_pvalues(DG, background_list, DEG_list):\n",
    "    \n",
    "    source_nodes = list(set(zip(*DG.edges())[0]))  #identifying unique source nodes in graph\n",
    "    \n",
    "    TR_to_pvalue = {}\n",
    "    for TR in source_nodes:\n",
    "        x = len(list(set(DG.neighbors(TR)) & set(DEG_list))) # per TR, observed overlap between TR neighbors and DEG_list\n",
    "        M = len(background_list)  # num unique nodes in universe, aka background network (STRING)\n",
    "        n = len(DG.neighbors(TR)) # per TR, number of targets for that TR\n",
    "        N = len(list(set(background_list) & set(DEG_list))) # number of DEG, picked from universe \"at random\" (TODO: intersection)\n",
    "    \n",
    "        TR_to_pvalue[TR] = -(scipy.stats.hypergeom.logsf(x, M, n, N, loc=0)) # remove unnecessary negative sign\n",
    "        \n",
    "    return TR_to_pvalue \n",
    "    \n",
    "un = np.unique(list(sym1_list)+list(sym2_list))\n",
    "tr_pvalues(DG, un, DEG_list)"
   ]
  },
  {
   "cell_type": "markdown",
   "metadata": {},
   "source": [
    "### z-score with DEG"
   ]
  },
  {
   "cell_type": "code",
   "execution_count": 24,
   "metadata": {
    "collapsed": false
   },
   "outputs": [
    {
     "data": {
      "text/plain": [
       "{u'ATF6': 0, u'MAX': 0, u'MYB': 0, u'REL': -1.0, u'TBP': 0}"
      ]
     },
     "execution_count": 24,
     "metadata": {},
     "output_type": "execute_result"
    }
   ],
   "source": [
    "# NOTE! This is only counting N+ and N- for nodes in our DEG list.\n",
    "\n",
    "def tr_zscore(DG, DEG_list):\n",
    "    \n",
    "    source_nodes = list(set(zip(*DG.edges())[0])) #identifying unique source nodes in graph\n",
    "    \n",
    "    TR_to_zscore = {}\n",
    "    for TR in source_nodes:\n",
    "        N_minus = 0 # number of inhibiting predicting DEG edges\n",
    "        N_plus = 0 # number of activating predicting DEG edges\n",
    "        N_zero = 0 # number of edges with errorous calculations\n",
    "    \n",
    "        TRs_DEG_neighbors = set(DG.neighbors(TR)) & set(DEG_list)\n",
    "        for n in TRs_DEG_neighbors:\n",
    "                sign_of_edge = DG[TR][n]['sign']\n",
    "                up_down_of_n = DG.node[n]['updown']\n",
    "                \n",
    "                # predict whether this neighbor thinks the TR is Act. or Inhib.\n",
    "                if ((sign_of_edge * up_down_of_n) == 1):\n",
    "                    N_plus += 1\n",
    "                elif ((sign_of_edge * up_down_of_n) == -1):\n",
    "                    N_minus += 1\n",
    "                else:\n",
    "                    N_zero += 1 # mark an error if could not predict\n",
    "                    print \"Issue with edge (\" + str(TR) + ',' + str(n) + ')'\n",
    "                \n",
    "        if N_zero != 0:\n",
    "            print \"Could not attribute activated or inhibiting trait to \" + str(N_zero) + 'nodes'\n",
    "      \n",
    "        # prevent a divide-by-zero calculation\n",
    "        N = N_plus + N_minus\n",
    "        if N == 0:\n",
    "            z_score = 0\n",
    "        else:\n",
    "            z_score = (N_plus - N_minus)/float(math.sqrt(N))\n",
    "                \n",
    "        TR_to_zscore[TR] = z_score #create zscore dict where 1 means activating\n",
    "                                                            # -1 means inhibiting\n",
    "                                                            # 0 means could not be calculated\n",
    "    \n",
    "    return TR_to_zscore\n",
    "\n",
    "tr_zscore(DG, DEG_list)"
   ]
  },
  {
   "cell_type": "code",
   "execution_count": null,
   "metadata": {
    "collapsed": true
   },
   "outputs": [],
   "source": []
  }
 ],
 "metadata": {
  "kernelspec": {
   "display_name": "Python 2",
   "language": "python",
   "name": "python2"
  },
  "language_info": {
   "codemirror_mode": {
    "name": "ipython",
    "version": 2
   },
   "file_extension": ".py",
   "mimetype": "text/x-python",
   "name": "python",
   "nbconvert_exporter": "python",
   "pygments_lexer": "ipython2",
   "version": "2.7.11"
  }
 },
 "nbformat": 4,
 "nbformat_minor": 0
}
