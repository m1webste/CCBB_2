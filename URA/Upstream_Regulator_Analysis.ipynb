{
 "cells": [
  {
   "cell_type": "code",
   "execution_count": 1,
   "metadata": {
    "collapsed": true
   },
   "outputs": [],
   "source": [
    "import numpy as np\n",
    "import pandas as pd\n",
    "import networkx as nx\n",
    "import scipy\n",
    "from scipy import stats\n",
    "import mygene\n",
    "import math\n",
    "\n",
    "import matplotlib as mpl\n",
    "mpl.rc('text', usetex = False)\n",
    "mpl.rc('font', family = 'serif')\n",
    "% matplotlib inline"
   ]
  },
  {
   "cell_type": "markdown",
   "metadata": {},
   "source": [
    "## Creating Background Network ###\n",
    "\n",
    "#### scratch code"
   ]
  },
  {
   "cell_type": "code",
   "execution_count": 2,
   "metadata": {
    "collapsed": true
   },
   "outputs": [],
   "source": [
    "# load TR list from AnimalTFDB \n",
    "TR_db_m = pd.read_csv(\"Mus_musculus_transcription_factors_gene_list.txt\", sep = \"\\t\")\n",
    "TR_db_h = pd.read_csv(\"Homo_sapiens_transcription_factors_gene_list.txt\", sep = \"\\t\")\n",
    "TR_db = TR_db_m.append(TR_db_h)\n",
    "TR_list_entrez = TR_db.Entrez_ID"
   ]
  },
  {
   "cell_type": "code",
   "execution_count": 3,
   "metadata": {
    "collapsed": false
   },
   "outputs": [
    {
     "data": {
      "text/plain": [
       "1691"
      ]
     },
     "execution_count": 3,
     "metadata": {},
     "output_type": "execute_result"
    }
   ],
   "source": [
    "len(TR_db_h)"
   ]
  },
  {
   "cell_type": "code",
   "execution_count": 4,
   "metadata": {
    "collapsed": false
   },
   "outputs": [
    {
     "name": "stdout",
     "output_type": "stream",
     "text": [
      "querying 1-1000...done.\n",
      "querying 1001-2000...done.\n",
      "querying 2001-2956...done.\n"
     ]
    },
    {
     "data": {
      "text/plain": [
       "2956"
      ]
     },
     "execution_count": 4,
     "metadata": {},
     "output_type": "execute_result"
    }
   ],
   "source": [
    "#translate TR list entrez to symbol\n",
    "mg = mygene.MyGeneInfo()\n",
    "translated_DF = mg.getgenes(set(TR_list_entrez), as_dataframe=True)\n",
    "animal_TF = translated_DF[\"symbol\"].str.upper()\n",
    "len(animal_TF)"
   ]
  },
  {
   "cell_type": "code",
   "execution_count": null,
   "metadata": {
    "collapsed": true
   },
   "outputs": [],
   "source": [
    "#DEG_list = [7,9,10]\n",
    "#edge_list = [(2,5), (2,4), (1,5), (3,5), (3,4), (6,4), (6,7), (6,9), (6,10), (8,9), (8,10)]\n",
    "#DG = nx.DiGraph()\n",
    "#DG.add_edges_from(edge_list)\n",
    "#sym1_list = [2, 2, 1, 3, 3, 6, 6, 6, 6, 8, 8]\n",
    "#sym2_list = [5, 4, 5, 5, 4, 4, 7, 9, 10, 9, 10]\n",
    "#source_nodes = list(set(zip(*DG.edges())[0]))\n",
    "#print 'source_nodes: ' + str(source_nodes)"
   ]
  },
  {
   "cell_type": "markdown",
   "metadata": {},
   "source": [
    "### Real code starts here ###"
   ]
  },
  {
   "cell_type": "code",
   "execution_count": 76,
   "metadata": {
    "collapsed": false
   },
   "outputs": [
    {
     "data": {
      "text/plain": [
       "2705"
      ]
     },
     "execution_count": 76,
     "metadata": {},
     "output_type": "execute_result"
    }
   ],
   "source": [
    "def load_slowkow(filename_list = ['./slowkow_databases/TRED_TF.txt',\n",
    "                 './slowkow_databases/ITFP_TF.txt',\n",
    "                 './slowkow_databases/ENCODE_TF.txt',\n",
    "                 './slowkow_databases/Neph2012_TF.txt',\n",
    "                 './slowkow_databases/TRRUST_TF.txt',\n",
    "                  './slowkow_databases/Marbach2016_TF.txt']):\n",
    "    \n",
    "    # read files formatted as \\n separated items\n",
    "    return_list = []\n",
    "    for file_name in filename_list:\n",
    "        with open(file_name) as f:\n",
    "            lines = f.read().splitlines()\n",
    "            return_list.extend(lines)\n",
    "    \n",
    "    # convert everything to ALL CAPS\n",
    "    [x.upper() for x in return_list]\n",
    "    \n",
    "    # remove duplicates\n",
    "    return set(return_list)\n",
    "\n",
    "filename_list = ['./slowkow_databases/TRED_TF.txt',\n",
    "                 './slowkow_databases/ITFP_TF.txt',\n",
    "                 './slowkow_databases/ENCODE_TF.txt',\n",
    "                 './slowkow_databases/Neph2012_TF.txt',\n",
    "                 './slowkow_databases/TRRUST_TF.txt',\n",
    "                  './slowkow_databases/Marbach2016_TF.txt']\n",
    "len(load_slowkow(filename_list))"
   ]
  },
  {
   "cell_type": "code",
   "execution_count": 24,
   "metadata": {
    "collapsed": false
   },
   "outputs": [
    {
     "data": {
      "text/plain": [
       "2049"
      ]
     },
     "execution_count": 24,
     "metadata": {},
     "output_type": "execute_result"
    }
   ],
   "source": [
    "def load_jaspar(filename):\n",
    "    \n",
    "    # parse jaspar file\n",
    "    jasp_df = pd.read_csv(filename, sep = \"\\t\", header= None, names = ['col1', 'col2', 'col3', 'col4', 'tf_genes'])\n",
    "    \n",
    "    # return transcription factors with ALL CAPS names\n",
    "    return list(jasp_df['tf_genes'].str.upper())\n",
    "    \n",
    "    \n",
    "len(load_jaspar(\"jaspar_genereg_matrix.txt\"))"
   ]
  },
  {
   "cell_type": "code",
   "execution_count": 25,
   "metadata": {
    "collapsed": false
   },
   "outputs": [
    {
     "data": {
      "text/plain": [
       "3983"
      ]
     },
     "execution_count": 25,
     "metadata": {},
     "output_type": "execute_result"
    }
   ],
   "source": [
    "def create_TF_list(slowkow_bool = True,\n",
    "                   slowkow_files = ['./slowkow_databases/TRED_TF.txt',\n",
    "                                    './slowkow_databases/ITFP_TF.txt',\n",
    "                                    './slowkow_databases/ENCODE_TF.txt',\n",
    "                                    './slowkow_databases/Neph2012_TF.txt',\n",
    "                                    './slowkow_databases/TRRUST_TF.txt',\n",
    "                                    './slowkow_databases/Marbach2016_TF.txt'],\n",
    "                   jaspar_bool = True, \n",
    "                   jaspar_file = \"jaspar_genereg_matrix.txt\"):\n",
    "    \n",
    "    TF_list = []\n",
    "    \n",
    "    if slowkow_bool == True:\n",
    "        slowkow_TFs = load_slowkow(slowkow_files)\n",
    "        TF_list.extend(slowkow_TFs)\n",
    "        \n",
    "    if jaspar_bool == True:\n",
    "        jaspar_TFs = load_jaspar(jaspar_file)\n",
    "        TF_list.extend(jaspar_TFs)\n",
    "        \n",
    "    return list(set(TF_list))\n",
    "        \n",
    "        \n",
    "TF_list = create_TF_list()\n",
    "len(TF_list)"
   ]
  },
  {
   "cell_type": "markdown",
   "metadata": {},
   "source": [
    "#### Cross reference Brin's TR list with background STRING db\n"
   ]
  },
  {
   "cell_type": "code",
   "execution_count": 79,
   "metadata": {
    "collapsed": true
   },
   "outputs": [],
   "source": [
    "def load_and_process_STRING(filename = \"STRING_network.xlsx\"):\n",
    "    \n",
    "    # Load STRING database as background network\n",
    "    STRING_DF = pd.read_excel(filename)\n",
    "\n",
    "    # convert sources (sym1) and targets (sym2) to all caps\n",
    "    sym1_list = STRING_DF.Symbol1.str.upper()\n",
    "    sym2_list = STRING_DF.Symbol2.str.upper()\n",
    "\n",
    "    # make an edge list with associated edge weight (db_edges)\n",
    "    weight_list = STRING_DF.Weight\n",
    "    db_edges = zip(sym1_list, sym2_list, weight_list)\n",
    "\n",
    "    # make an edge list with associated activating (+)/inhibiting (-) sign (db_sign_att)\n",
    "    sign_list = STRING_DF.Edge_Sign\n",
    "    sign_num_list = []\n",
    "    for sign in sign_list:\n",
    "        if str(sign) == '+':\n",
    "            sign_num_list.append(1)\n",
    "        elif str(sign) == '-':\n",
    "            sign_num_list.append(-1)\n",
    "        else:\n",
    "            sign_num_list.append(0)\n",
    "    db_sign_att = zip(sym1_list, sym2_list, sign_num_list)\n",
    "    \n",
    "    return STRING_DF, db_edges, db_sign_att\n",
    "\n",
    "\n",
    "STRING_DF, db_edges, db_sign_att = load_and_process_STRING();"
   ]
  },
  {
   "cell_type": "code",
   "execution_count": 29,
   "metadata": {
    "collapsed": false
   },
   "outputs": [],
   "source": [
    "def filter_background(db_edges, db_sign_att, TF_list):\n",
    "    \n",
    "    # extracting TR edge information from background database\n",
    "    edge_list_filtered = []\n",
    "    sign_att_list_filtered = []\n",
    "    for i in range(len(db_edges)):\n",
    "        if db_edges[i][0] in list(TF_list):\n",
    "            edge_list_filtered.append(db_edges[i])\n",
    "            sign_att_list_filtered.append(db_sign_att[i])\n",
    "            \n",
    "    return edge_list_filtered, sign_att_list_filtered\n",
    "\n",
    "edge_list_filtered, sign_att_list_filtered = filter_background(db_edges, db_sign_att, TF_list)"
   ]
  },
  {
   "cell_type": "code",
   "execution_count": 32,
   "metadata": {
    "collapsed": true
   },
   "outputs": [],
   "source": [
    "def make_digraph(db_edges, db_sign_att, TF_list):\n",
    "    \n",
    "    # use only edges from background network associated with our TF list\n",
    "    edge_list_filtered, sign_att_list_filtered = filter_background(db_edges, db_sign_att, TF_list)\n",
    "    \n",
    "    # create networkx digraph from weighted edge list, add sign edge attributes \n",
    "    DG = nx.DiGraph()\n",
    "    DG.add_weighted_edges_from(edge_list_filtered)\n",
    "    for i in range(len(sign_att_list_filtered)):\n",
    "        DG[sign_att_list_filtered[i][0]][sign_att_list_filtered[i][1]]['sign'] = sign_att_list_filtered[i][2]\n",
    "    \n",
    "    return DG\n",
    "\n",
    "DG = make_digraph(db_edges, db_sign_att, TF_list)"
   ]
  },
  {
   "cell_type": "code",
   "execution_count": 33,
   "metadata": {
    "collapsed": false
   },
   "outputs": [
    {
     "data": {
      "text/plain": [
       "687"
      ]
     },
     "execution_count": 33,
     "metadata": {},
     "output_type": "execute_result"
    }
   ],
   "source": [
    "len(DG.nodes())"
   ]
  },
  {
   "cell_type": "markdown",
   "metadata": {},
   "source": [
    "### p-value with differencially expressed genes"
   ]
  },
  {
   "cell_type": "code",
   "execution_count": 34,
   "metadata": {
    "collapsed": false
   },
   "outputs": [
    {
     "name": "stdout",
     "output_type": "stream",
     "text": [
      "2782\n",
      "2782\n"
     ]
    }
   ],
   "source": [
    "def load_DEG_with_up_downs(filename = \"differencially_expressed_genes.txt\", filter_value = 0.3):\n",
    "\n",
    "    # load differencially expressed genes (experimental results)\n",
    "    DEG_db = pd.read_csv(filename, sep = \"\\t\")\n",
    "\n",
    "    # filtering for lfdr < 0.3\n",
    "    DEG_list = []\n",
    "    DEG_to_updown = {}\n",
    "    for i in range(len(DEG_db)):\n",
    "\n",
    "        # removing Nan values\n",
    "        if str(DEG_db.symbol[i]).upper() != 'NAN':\n",
    "\n",
    "            # filtering DEG list by lfdr < filter_value\n",
    "            if (DEG_db['lfdr.89.12'][i] < filter_value):\n",
    "                DEG_list.append(str(DEG_db.symbol[i]).upper())\n",
    "\n",
    "                # creating dictionary between DEG symbols and their up/down value\n",
    "                if DEG_db['log2.89.12'][i] != 0: \n",
    "                    DEG_to_updown[str(DEG_db.symbol[i]).upper()] = DEG_db['log2.89.12'][i]\n",
    "                else:\n",
    "                    DEG_to_updown[str(DEG_db.symbol[i]).upper()] = 0\n",
    "    \n",
    "    return DEG_list, DEG_to_updown\n",
    "\n",
    "DEG_list, DEG_to_updown = load_DEG_with_up_downs()\n",
    "print len(DEG_list)\n",
    "print len(DEG_to_updown)"
   ]
  },
  {
   "cell_type": "code",
   "execution_count": 42,
   "metadata": {
    "collapsed": false
   },
   "outputs": [],
   "source": [
    "def add_updown_from_DEG(DG, DEG_filename = \"differencially_expressed_genes.txt\", DEG_filter_value = 0.3):\n",
    "    \n",
    "    DEG_list, DEG_to_updown = load_DEG_with_up_downs(DEG_filename, DEG_filter_value)\n",
    "    \n",
    "    # get all the differencially expressed genes in DG\n",
    "    DEG_in_DG = set(DG.nodes()) & set(DEG_list)\n",
    "    \n",
    "    # add node attribute to each node in DG if it exists, otherwise set to zero\n",
    "    zero_dict = dict(zip(DG.nodes(), [0]*len(DG.nodes())))\n",
    "    for gene in DEG_in_DG:\n",
    "        zero_dict[gene] = DEG_to_updown[gene]\n",
    "    nx.set_node_attributes(DG, 'updown', zero_dict)\n",
    "    \n",
    "    return DEG_list"
   ]
  },
  {
   "cell_type": "code",
   "execution_count": 43,
   "metadata": {
    "collapsed": true
   },
   "outputs": [
    {
     "data": {
      "text/plain": [
       "[(u'PDM2', {'updown': 0}),\n",
       " (u'ICLN', {'updown': 0}),\n",
       " (u'MCM10', {'updown': 0}),\n",
       " (u'CG30085', {'updown': 0}),\n",
       " (u'VPS2', {'updown': 0}),\n",
       " (u'SCB', {'updown': 0}),\n",
       " (u'SIN', {'updown': 0}),\n",
       " (u'BAP60', {'updown': 0}),\n",
       " (u'VPS4', {'updown': 0}),\n",
       " (u'SMG5', {'updown': 0.18674921190000002}),\n",
       " (u'SPZ', {'updown': 0}),\n",
       " (u'SMG6', {'updown': 0.1827090375}),\n",
       " (u'TAP', {'updown': 0}),\n",
       " (u'RPS19B', {'updown': 0}),\n",
       " (u'RPS19A', {'updown': 0}),\n",
       " (u'TAZ', {'updown': 0}),\n",
       " (u'MRPL51', {'updown': 0}),\n",
       " (u'PROSBETA5R', {'updown': 0}),\n",
       " (u'RPT3', {'updown': 0}),\n",
       " (u'RPT1', {'updown': 0})]"
      ]
     },
     "execution_count": 43,
     "metadata": {},
     "output_type": "execute_result"
    }
   ],
   "source": [
    "DEG_list = add_updown_from_DEG(DG)\n",
    "DG.nodes(data = True)[0:20]"
   ]
  },
  {
   "cell_type": "code",
   "execution_count": 74,
   "metadata": {
    "collapsed": false
   },
   "outputs": [
    {
     "data": {
      "text/plain": [
       "102"
      ]
     },
     "execution_count": 74,
     "metadata": {},
     "output_type": "execute_result"
    }
   ],
   "source": [
    "# calculating all the p-scores\n",
    "\n",
    "def tr_pvalues(DG, db_edges, DEG_list):\n",
    "    \n",
    "    source_nodes = list(set(zip(*DG.edges())[0]))  #identifying unique source nodes in graph\n",
    "    background_list = list(set(zip(*db_edges)[0]) | set(zip(*db_edges)[1]))\n",
    "    \n",
    "    TR_to_pvalue = {}\n",
    "    for TR in source_nodes:\n",
    "        x = len(list(set(DG.neighbors(TR)) & set(DEG_list))) # per TR, observed overlap between TR neighbors and DEG_list\n",
    "        M = len(background_list)  # num unique nodes in universe, aka background network (STRING)\n",
    "        n = len(DG.neighbors(TR)) # per TR, number of targets for that TR\n",
    "        N = len(list(set(background_list) & set(DEG_list))) # number of DEG, picked from universe \"at random\"\n",
    "    \n",
    "        TR_to_pvalue[TR] = -(scipy.stats.hypergeom.logsf(x, M, n, N, loc=0)) # remove unnecessary negative sign\n",
    "        \n",
    "    return TR_to_pvalue \n",
    "    \n",
    "TR_to_pvalue = tr_pvalues(DG, db_edges, DEG_list)\n",
    "len(TR_to_pvalue)"
   ]
  },
  {
   "cell_type": "markdown",
   "metadata": {},
   "source": [
    "### z-score with DEG"
   ]
  },
  {
   "cell_type": "code",
   "execution_count": 75,
   "metadata": {
    "collapsed": false,
    "scrolled": true
   },
   "outputs": [
    {
     "data": {
      "text/plain": [
       "{u'ABD-B': 0,\n",
       " u'ACHI': 0,\n",
       " u'AKT1': 0,\n",
       " u'ANTP': 0,\n",
       " u'ARR1': 0,\n",
       " u'ATF6': 0,\n",
       " u'BAP': 0,\n",
       " u'BUB3': 0,\n",
       " u'CDC16': -1.0,\n",
       " u'CDC27': -1.0,\n",
       " u'CDC6': -1.0,\n",
       " u'CG11294': 0,\n",
       " u'CNOT4': 0,\n",
       " u'DFD': 0,\n",
       " u'DL': 0.0,\n",
       " u'ECD': 0,\n",
       " u'EVE': 0,\n",
       " u'FKH': 0,\n",
       " u'GATA': 0,\n",
       " u'GCM': 0,\n",
       " u'GSTO1': 0,\n",
       " u'H': 0,\n",
       " u'HBN': 0,\n",
       " u'HDAC3': 0,\n",
       " u'HDAC6': 0,\n",
       " u'HKB': 0,\n",
       " u'ILK': 0,\n",
       " u'ING3': 0,\n",
       " u'INR': 0,\n",
       " u'INTS4': -1.0,\n",
       " u'INTS6': -1.0,\n",
       " u'INTS8': -1.0,\n",
       " u'KLHL18': 0,\n",
       " u'KR': 0,\n",
       " u'LIG3': 0,\n",
       " u'MAD': 0,\n",
       " u'MARS': 0,\n",
       " u'MAX': 0,\n",
       " u'MCM2': -1.414213562373095,\n",
       " u'MCM3': -1.414213562373095,\n",
       " u'MCM5': -1.0,\n",
       " u'MCM6': -0.5773502691896258,\n",
       " u'MCM7': -1.0,\n",
       " u'MED1': -1.0,\n",
       " u'MED15': -1.414213562373095,\n",
       " u'MRPL23': 0,\n",
       " u'MRPL24': -1.7320508075688774,\n",
       " u'MRPL44': 0,\n",
       " u'MSH6': 0,\n",
       " u'MYB': 0,\n",
       " u'NF1': 0,\n",
       " u'NUB': 0,\n",
       " u'NUP133': 0,\n",
       " u'NUP50': 0,\n",
       " u'ONECUT': 0,\n",
       " u'OPTIX': 0,\n",
       " u'PAN': 0,\n",
       " u'PAX': 0.0,\n",
       " u'PNR': 0,\n",
       " u'PTEN': -1.0,\n",
       " u'PXN': 0,\n",
       " u'RAE1': 0,\n",
       " u'RBBP5': 0,\n",
       " u'REL': -1.0,\n",
       " u'REPO': 0,\n",
       " u'RFC4': -1.0,\n",
       " u'RNPS1': -1.0,\n",
       " u'RPL23A': 1.3416407864998738,\n",
       " u'RPL8': 1.6329931618554523,\n",
       " u'RPS23': 2.23606797749979,\n",
       " u'RPS24': 1.6329931618554523,\n",
       " u'RPS3': 1.889822365046136,\n",
       " u'SCR': 0,\n",
       " u'SF1': 0,\n",
       " u'SIN3A': 0,\n",
       " u'SLBO': 0.0,\n",
       " u'SNA': 0,\n",
       " u'SPEN': 0,\n",
       " u'STAT92E': 0,\n",
       " u'SU(H)': 0,\n",
       " u'SU(HW)': 0,\n",
       " u'SVP': 0,\n",
       " u'TAF1': 0.0,\n",
       " u'TAF11': 0.0,\n",
       " u'TAF12': 1.0,\n",
       " u'TAF2': 1.0,\n",
       " u'TAF4': -1.0,\n",
       " u'TAF5': 0.0,\n",
       " u'TAF6': 1.0,\n",
       " u'TAF7': 0,\n",
       " u'TAZ': 0,\n",
       " u'TBP': 0,\n",
       " u'TIN': 0,\n",
       " u'TLL': 0,\n",
       " u'TOPORS': 0,\n",
       " u'TRL': 0,\n",
       " u'TSG101': 0,\n",
       " u'TTK': 0,\n",
       " u'UTX': 0,\n",
       " u'VHL': 0,\n",
       " u'Z': -1.0,\n",
       " u'ZEN2': 0}"
      ]
     },
     "execution_count": 75,
     "metadata": {},
     "output_type": "execute_result"
    }
   ],
   "source": [
    "def tr_zscore(DG, DEG_list):\n",
    "    \n",
    "    source_nodes = list(set(zip(*DG.edges())[0])) #identifying unique source nodes in graph\n",
    "    \n",
    "    TR_to_zscore = {}\n",
    "    for TR in source_nodes:\n",
    "        N_minus = 0 # number of inhibiting predicting DEG edges\n",
    "        N_plus = 0 # number of activating predicting DEG edges\n",
    "        N_zero = 0 # number of edges with errorous calculations\n",
    "    \n",
    "        TRs_DEG_neighbors = set(DG.neighbors(TR)) & set(DEG_list)\n",
    "        for n in TRs_DEG_neighbors:\n",
    "                sign_of_edge = DG[TR][n]['sign']\n",
    "                up_down_of_n = (DG.node[n]['updown']/abs(DG.node[n]['updown']))\n",
    "                \n",
    "                # predict whether this neighbor thinks the TR is Act. or Inhib.\n",
    "                if ((sign_of_edge * up_down_of_n) == 1):\n",
    "                    N_plus += 1\n",
    "                elif ((sign_of_edge * up_down_of_n) == -1):\n",
    "                    N_minus += 1\n",
    "                else:\n",
    "                    N_zero += 1 # mark an error if could not predict\n",
    "                    print \"Issue with edge (\" + str(TR) + ',' + str(n) + ')'\n",
    "                \n",
    "        if N_zero != 0:\n",
    "            print \"Could not attribute activated or inhibiting trait to \" + str(N_zero) + 'nodes'\n",
    "      \n",
    "        # prevent a divide-by-zero calculation\n",
    "        N = N_plus + N_minus\n",
    "        if N == 0:\n",
    "            z_score = 0\n",
    "        else:\n",
    "            z_score = (N_plus - N_minus)/float(math.sqrt(N))\n",
    "                \n",
    "        TR_to_zscore[TR] = z_score #create zscore dict where 1 means activating\n",
    "                                                            # -1 means inhibiting\n",
    "                                                            # 0 means could not be calculated\n",
    "    \n",
    "    return TR_to_zscore\n",
    "\n",
    "tr_zscore(DG, DEG_list)"
   ]
  },
  {
   "cell_type": "markdown",
   "metadata": {
    "collapsed": true
   },
   "source": [
    "## Testing"
   ]
  },
  {
   "cell_type": "code",
   "execution_count": 80,
   "metadata": {
    "collapsed": false
   },
   "outputs": [
    {
     "data": {
      "text/plain": [
       "{u'ABD-B': 2.5619299458469871,\n",
       " u'ACHI': 4.1400668115618942,\n",
       " u'AKT1': 2.0051353444087323,\n",
       " u'ANTP': 4.1400668115618942,\n",
       " u'ARR1': 3.4547738088253737,\n",
       " u'ATF6': 1.6680928067230729,\n",
       " u'BAP': 2.3873854072043095,\n",
       " u'BUB3': 1.2902562879815764,\n",
       " u'CDC16': 3.1441987530558704,\n",
       " u'CDC27': 2.0214533281293834,\n",
       " u'CDC6': 3.909551880959754,\n",
       " u'CG11294': 3.4547738088253737,\n",
       " u'CNOT4': 2.0051353444087323,\n",
       " u'DFD': 4.1400668115618942,\n",
       " u'DL': 5.3485051248405746,\n",
       " u'ECD': 2.5619299458469871,\n",
       " u'EVE': 4.1400668115618942,\n",
       " u'FKH': 4.1400668115618942,\n",
       " u'GATA': 4.1400668115618942,\n",
       " u'GCM': 4.1400668115618942,\n",
       " u'GSTO1': 4.1400668115618942,\n",
       " u'H': 2.3873854072043095,\n",
       " u'HBN': 4.1400668115618942,\n",
       " u'HDAC3': 2.3873854072043095,\n",
       " u'HDAC6': 2.7772771668834308,\n",
       " u'HKB': 3.4547738088253737,\n",
       " u'ILK': 3.4547738088253737,\n",
       " u'ING3': 2.3873854072043095,\n",
       " u'INR': 1.9074744647345609,\n",
       " u'INTS4': 5.6306387511600979,\n",
       " u'INTS6': 6.0258370197540474,\n",
       " u'INTS8': 6.5263844837145308,\n",
       " u'KLHL18': 1.8198445447027656,\n",
       " u'KR': 4.1400668115618942,\n",
       " u'LIG3': 4.1400668115618942,\n",
       " u'MAD': 4.1400668115618942,\n",
       " u'MARS': 2.5619299458469871,\n",
       " u'MAX': 4.1400668115618942,\n",
       " u'MCM2': 3.9716418433387393,\n",
       " u'MCM3': 5.3485051248405746,\n",
       " u'MCM5': 4.053527707140546,\n",
       " u'MCM6': 6.8878747785329528,\n",
       " u'MCM7': 3.776614215927955,\n",
       " u'MED1': 3.5382108565562818,\n",
       " u'MED15': 4.9811500142939549,\n",
       " u'MRPL23': 4.1400668115618942,\n",
       " u'MRPL24': 11.390485545205054,\n",
       " u'MRPL44': 4.1400668115618942,\n",
       " u'MSH6': 4.1400668115618942,\n",
       " u'MYB': 3.057143611371584,\n",
       " u'NF1': 3.4547738088253737,\n",
       " u'NUB': 2.7772771668834308,\n",
       " u'NUP133': 1.6016069007637868,\n",
       " u'NUP50': 1.0421444993889257,\n",
       " u'ONECUT': 3.4547738088253737,\n",
       " u'OPTIX': 4.1400668115618942,\n",
       " u'PAN': 2.3873854072043095,\n",
       " u'PAX': 9.5111898014729821,\n",
       " u'PNR': 4.1400668115618942,\n",
       " u'PTEN': 4.3825187727198189,\n",
       " u'PXN': 4.1400668115618942,\n",
       " u'RAE1': 1.2489520970062125,\n",
       " u'RBBP5': 4.1400668115618942,\n",
       " u'REL': 4.7859022137841105,\n",
       " u'REPO': 3.4547738088253737,\n",
       " u'RFC4': 2.506248904074198,\n",
       " u'RNPS1': 2.9780655427250147,\n",
       " u'RPL23A': 5.1249880701978325,\n",
       " u'RPL8': 4.9704305599877383,\n",
       " u'RPS23': 4.4500688509827331,\n",
       " u'RPS24': 6.1873697276893855,\n",
       " u'RPS3': 6.3039359844708365,\n",
       " u'SCR': 4.1400668115618942,\n",
       " u'SF1': 4.1400668115618942,\n",
       " u'SIN3A': 1.5402166778162427,\n",
       " u'SLBO': 7.1814092062748056,\n",
       " u'SNA': 4.1400668115618942,\n",
       " u'SPEN': 4.1400668115618942,\n",
       " u'STAT92E': 2.2409924194965458,\n",
       " u'SU(H)': 2.3873854072043095,\n",
       " u'SU(HW)': 3.4547738088253737,\n",
       " u'SVP': 2.1151993795793307,\n",
       " u'TAF1': 4.1259115459577504,\n",
       " u'TAF11': 5.9385052959877074,\n",
       " u'TAF12': 2.1955163232069257,\n",
       " u'TAF2': 4.053527707140546,\n",
       " u'TAF4': 2.5652583509085751,\n",
       " u'TAF5': 4.1259115459577504,\n",
       " u'TAF6': 2.8277732133489244,\n",
       " u'TAF7': 2.1151993795793307,\n",
       " u'TAZ': 4.1400668115618942,\n",
       " u'TBP': 2.2409924194965458,\n",
       " u'TIN': 3.057143611371584,\n",
       " u'TLL': 4.1400668115618942,\n",
       " u'TOPORS': 4.1400668115618942,\n",
       " u'TRL': 3.4547738088253737,\n",
       " u'TSG101': 2.3873854072043095,\n",
       " u'TTK': 2.1151993795793307,\n",
       " u'UTX': 4.1400668115618942,\n",
       " u'VHL': 2.0051353444087323,\n",
       " u'Z': 7.2092422239418363,\n",
       " u'ZEN2': 4.1400668115618942}"
      ]
     },
     "execution_count": 80,
     "metadata": {},
     "output_type": "execute_result"
    }
   ],
   "source": [
    "TF_list = create_TF_list()\n",
    "STRING_DF, db_edges, db_sign_att = load_and_process_STRING()\n",
    "edge_list_filtered, sign_att_list_filtered = filter_background(db_edges, db_sign_att, TF_list)\n",
    "DG = make_digraph(db_edges, db_sign_att, TF_list)\n",
    "DEG_list = add_updown_from_DEG(DG)\n",
    "tr_pvalues(DG, db_edges, DEG_list)"
   ]
  },
  {
   "cell_type": "code",
   "execution_count": 81,
   "metadata": {
    "collapsed": false
   },
   "outputs": [
    {
     "data": {
      "text/plain": [
       "{u'ABD-B': 0,\n",
       " u'ACHI': 0,\n",
       " u'AKT1': 0,\n",
       " u'ANTP': 0,\n",
       " u'ARR1': 0,\n",
       " u'ATF6': 0,\n",
       " u'BAP': 0,\n",
       " u'BUB3': 0,\n",
       " u'CDC16': -1.0,\n",
       " u'CDC27': -1.0,\n",
       " u'CDC6': -1.0,\n",
       " u'CG11294': 0,\n",
       " u'CNOT4': 0,\n",
       " u'DFD': 0,\n",
       " u'DL': 0.0,\n",
       " u'ECD': 0,\n",
       " u'EVE': 0,\n",
       " u'FKH': 0,\n",
       " u'GATA': 0,\n",
       " u'GCM': 0,\n",
       " u'GSTO1': 0,\n",
       " u'H': 0,\n",
       " u'HBN': 0,\n",
       " u'HDAC3': 0,\n",
       " u'HDAC6': 0,\n",
       " u'HKB': 0,\n",
       " u'ILK': 0,\n",
       " u'ING3': 0,\n",
       " u'INR': 0,\n",
       " u'INTS4': -1.0,\n",
       " u'INTS6': -1.0,\n",
       " u'INTS8': -1.0,\n",
       " u'KLHL18': 0,\n",
       " u'KR': 0,\n",
       " u'LIG3': 0,\n",
       " u'MAD': 0,\n",
       " u'MARS': 0,\n",
       " u'MAX': 0,\n",
       " u'MCM2': -1.414213562373095,\n",
       " u'MCM3': -1.414213562373095,\n",
       " u'MCM5': -1.0,\n",
       " u'MCM6': -0.5773502691896258,\n",
       " u'MCM7': -1.0,\n",
       " u'MED1': -1.0,\n",
       " u'MED15': -1.414213562373095,\n",
       " u'MRPL23': 0,\n",
       " u'MRPL24': -1.7320508075688774,\n",
       " u'MRPL44': 0,\n",
       " u'MSH6': 0,\n",
       " u'MYB': 0,\n",
       " u'NF1': 0,\n",
       " u'NUB': 0,\n",
       " u'NUP133': 0,\n",
       " u'NUP50': 0,\n",
       " u'ONECUT': 0,\n",
       " u'OPTIX': 0,\n",
       " u'PAN': 0,\n",
       " u'PAX': 0.0,\n",
       " u'PNR': 0,\n",
       " u'PTEN': -1.0,\n",
       " u'PXN': 0,\n",
       " u'RAE1': 0,\n",
       " u'RBBP5': 0,\n",
       " u'REL': -1.0,\n",
       " u'REPO': 0,\n",
       " u'RFC4': -1.0,\n",
       " u'RNPS1': -1.0,\n",
       " u'RPL23A': 1.3416407864998738,\n",
       " u'RPL8': 1.6329931618554523,\n",
       " u'RPS23': 2.23606797749979,\n",
       " u'RPS24': 1.6329931618554523,\n",
       " u'RPS3': 1.889822365046136,\n",
       " u'SCR': 0,\n",
       " u'SF1': 0,\n",
       " u'SIN3A': 0,\n",
       " u'SLBO': 0.0,\n",
       " u'SNA': 0,\n",
       " u'SPEN': 0,\n",
       " u'STAT92E': 0,\n",
       " u'SU(H)': 0,\n",
       " u'SU(HW)': 0,\n",
       " u'SVP': 0,\n",
       " u'TAF1': 0.0,\n",
       " u'TAF11': 0.0,\n",
       " u'TAF12': 1.0,\n",
       " u'TAF2': 1.0,\n",
       " u'TAF4': -1.0,\n",
       " u'TAF5': 0.0,\n",
       " u'TAF6': 1.0,\n",
       " u'TAF7': 0,\n",
       " u'TAZ': 0,\n",
       " u'TBP': 0,\n",
       " u'TIN': 0,\n",
       " u'TLL': 0,\n",
       " u'TOPORS': 0,\n",
       " u'TRL': 0,\n",
       " u'TSG101': 0,\n",
       " u'TTK': 0,\n",
       " u'UTX': 0,\n",
       " u'VHL': 0,\n",
       " u'Z': -1.0,\n",
       " u'ZEN2': 0}"
      ]
     },
     "execution_count": 81,
     "metadata": {},
     "output_type": "execute_result"
    }
   ],
   "source": [
    "tr_zscore(DG, DEG_list)"
   ]
  },
  {
   "cell_type": "code",
   "execution_count": null,
   "metadata": {
    "collapsed": true
   },
   "outputs": [],
   "source": []
  }
 ],
 "metadata": {
  "kernelspec": {
   "display_name": "Python 2",
   "language": "python",
   "name": "python2"
  },
  "language_info": {
   "codemirror_mode": {
    "name": "ipython",
    "version": 2
   },
   "file_extension": ".py",
   "mimetype": "text/x-python",
   "name": "python",
   "nbconvert_exporter": "python",
   "pygments_lexer": "ipython2",
   "version": "2.7.11"
  }
 },
 "nbformat": 4,
 "nbformat_minor": 0
}
